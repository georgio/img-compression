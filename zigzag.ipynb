{
 "cells": [
  {
   "cell_type": "code",
   "execution_count": 64,
   "metadata": {
    "collapsed": true
   },
   "outputs": [],
   "source": [
    "import numpy as np"
   ]
  },
  {
   "cell_type": "markdown",
   "metadata": {},
   "source": [
    "## algorithm"
   ]
  },
  {
   "cell_type": "code",
   "execution_count": 65,
   "metadata": {
    "collapsed": true
   },
   "outputs": [],
   "source": [
    "def zig_zag_index(k, n):\n",
    "    # upper side of interval\n",
    "    if k >= n * (n + 1) // 2:\n",
    "        i, j = zig_zag_index(n * n - 1 - k, n)\n",
    "        return n - 1 - i, n - 1 - j\n",
    "\n",
    "    # lower side of interval\n",
    "    i = int((np.sqrt(1 + 8 * k) - 1) / 2)\n",
    "    j = k - i * (i + 1) // 2\n",
    "    return (j, i - j) if i & 1 else (i - j, j)"
   ]
  },
  {
   "cell_type": "code",
   "execution_count": 66,
   "metadata": {
    "collapsed": true
   },
   "outputs": [],
   "source": [
    "def zig_zag_value(i, j, n):\n",
    "    # upper side of interval\n",
    "    if i + j >= n:\n",
    "        return n * n - 1 - zig_zag_value(n - 1 - i, n - 1 - j, n)\n",
    "\n",
    "    # lower side of interval\n",
    "    k = (i + j) * (i + j + 1) // 2\n",
    "    return k + i if (i + j) & 1 else k + j"
   ]
  },
  {
   "cell_type": "markdown",
   "metadata": {},
   "source": [
    "## run"
   ]
  },
  {
   "cell_type": "code",
   "execution_count": 67,
   "metadata": {
    "collapsed": true
   },
   "outputs": [],
   "source": [
    "n = 8"
   ]
  },
  {
   "cell_type": "code",
   "execution_count": 68,
   "metadata": {
    "collapsed": false
   },
   "outputs": [
    {
     "data": {
      "text/plain": [
       "array([[ 0,  1,  5,  6, 14, 15, 27, 28],\n",
       "       [ 2,  4,  7, 13, 16, 26, 29, 42],\n",
       "       [ 3,  8, 12, 17, 25, 30, 41, 43],\n",
       "       [ 9, 11, 18, 24, 31, 40, 44, 53],\n",
       "       [10, 19, 23, 32, 39, 45, 52, 54],\n",
       "       [20, 22, 33, 38, 46, 51, 55, 60],\n",
       "       [21, 34, 37, 47, 50, 56, 59, 61],\n",
       "       [35, 36, 48, 49, 57, 58, 62, 63]])"
      ]
     },
     "execution_count": 68,
     "metadata": {},
     "output_type": "execute_result"
    }
   ],
   "source": [
    "M = np.zeros((n, n), dtype=int)\n",
    "for i in range(n):\n",
    "    for j in range(n):\n",
    "        M[i, j] = zig_zag_value(i, j, n)\n",
    "M"
   ]
  },
  {
   "cell_type": "code",
   "execution_count": 69,
   "metadata": {
    "collapsed": false
   },
   "outputs": [
    {
     "name": "stdout",
     "output_type": "stream",
     "text": [
      "(0, 0)\n",
      "(0, 1)\n",
      "(1, 0)\n",
      "(2, 0)\n",
      "(1, 1)\n",
      "(0, 2)\n",
      "(0, 3)\n",
      "(1, 2)\n",
      "(2, 1)\n",
      "(3, 0)\n",
      "(4, 0)\n",
      "(3, 1)\n",
      "(2, 2)\n",
      "(1, 3)\n",
      "(0, 4)\n",
      "(0, 5)\n",
      "(1, 4)\n",
      "(2, 3)\n",
      "(3, 2)\n",
      "(4, 1)\n",
      "(5, 0)\n",
      "(6, 0)\n",
      "(5, 1)\n",
      "(4, 2)\n",
      "(3, 3)\n",
      "(2, 4)\n",
      "(1, 5)\n",
      "(0, 6)\n",
      "(0, 7)\n",
      "(1, 6)\n",
      "(2, 5)\n",
      "(3, 4)\n",
      "(4, 3)\n",
      "(5, 2)\n",
      "(6, 1)\n",
      "(7, 0)\n",
      "(7, 1)\n",
      "(6, 2)\n",
      "(5, 3)\n",
      "(4, 4)\n",
      "(3, 5)\n",
      "(2, 6)\n",
      "(1, 7)\n",
      "(2, 7)\n",
      "(3, 6)\n",
      "(4, 5)\n",
      "(5, 4)\n",
      "(6, 3)\n",
      "(7, 2)\n",
      "(7, 3)\n",
      "(6, 4)\n",
      "(5, 5)\n",
      "(4, 6)\n",
      "(3, 7)\n",
      "(4, 7)\n",
      "(5, 6)\n",
      "(6, 5)\n",
      "(7, 4)\n",
      "(7, 5)\n",
      "(6, 6)\n",
      "(5, 7)\n",
      "(6, 7)\n",
      "(7, 6)\n",
      "(7, 7)\n"
     ]
    }
   ],
   "source": [
    "M = np.zeros((n, n), dtype=int)\n",
    "for k in range(n * n):\n",
    "    print(zig_zag_index(k, n))\n"
   ]
  },
  {
   "cell_type": "code",
   "execution_count": null,
   "metadata": {
    "collapsed": true
   },
   "outputs": [],
   "source": []
  }
 ],
 "metadata": {
  "kernelspec": {
   "display_name": "Python 3",
   "language": "python",
   "name": "python3"
  },
  "language_info": {
   "codemirror_mode": {
    "name": "ipython",
    "version": 3
   },
   "file_extension": ".py",
   "mimetype": "text/x-python",
   "name": "python",
   "nbconvert_exporter": "python",
   "pygments_lexer": "ipython3",
   "version": "3.11.3"
  }
 },
 "nbformat": 4,
 "nbformat_minor": 2
}
